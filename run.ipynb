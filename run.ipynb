{
 "cells": [
  {
   "cell_type": "code",
   "execution_count": 1,
   "id": "8dae2f06-e4a6-4ee7-af85-4cb179b3c512",
   "metadata": {},
   "outputs": [
    {
     "data": {
      "text/plain": [
       "True"
      ]
     },
     "execution_count": 1,
     "metadata": {},
     "output_type": "execute_result"
    }
   ],
   "source": [
    "from dotenv import load_dotenv\n",
    "\n",
    "load_dotenv()"
   ]
  },
  {
   "cell_type": "code",
   "execution_count": 2,
   "id": "371cf1cd-40dd-4b7b-853e-7fc06f948a50",
   "metadata": {},
   "outputs": [],
   "source": [
    "import uuid\n",
    "\n",
    "from langchain_openai import ChatOpenAI, OpenAIEmbeddings\n",
    "\n",
    "from src.constants import (\n",
    "    LLM_MODEL_NAME,\n",
    "    LLM_TEMPERATURE\n",
    ")\n",
    "\n",
    "from src.endless_chat import EndlessChat"
   ]
  },
  {
   "cell_type": "code",
   "execution_count": 3,
   "id": "34e6ec65-3bc5-452b-a18f-36cc2942ebdc",
   "metadata": {},
   "outputs": [],
   "source": [
    "USER_ID = str(uuid.uuid4())"
   ]
  },
  {
   "cell_type": "code",
   "execution_count": 4,
   "id": "fa746d9b-f449-4ac8-8291-e67cfcb5f5f5",
   "metadata": {},
   "outputs": [],
   "source": [
    "llm = ChatOpenAI(\n",
    "    model_name=LLM_MODEL_NAME,\n",
    "    temperature=LLM_TEMPERATURE\n",
    ")\n",
    "\n",
    "embeddings = OpenAIEmbeddings()"
   ]
  },
  {
   "cell_type": "code",
   "execution_count": 5,
   "id": "fc0d2215-0c56-4578-9025-b4c090d4bef1",
   "metadata": {},
   "outputs": [
    {
     "name": "stdout",
     "output_type": "stream",
     "text": [
      "INFO: New conversation created\n",
      "DEBUG: Conversation ID: 7cee51bb-6699-4e8c-a6ac-8f19ec5ad2b8\n"
     ]
    }
   ],
   "source": [
    "endless_chat = EndlessChat(\n",
    "    USER_ID,\n",
    "    llm,\n",
    "    embeddings\n",
    ")"
   ]
  },
  {
   "cell_type": "code",
   "execution_count": 6,
   "id": "b66332ac",
   "metadata": {},
   "outputs": [],
   "source": [
    "user_message = \"Hi! I wanna a PC gamer\""
   ]
  },
  {
   "cell_type": "code",
   "execution_count": 7,
   "id": "2f30251e-eeb4-4de7-b9ea-069a672f625e",
   "metadata": {},
   "outputs": [],
   "source": [
    "endless_chat.detect_conversation_change(user_message)"
   ]
  },
  {
   "cell_type": "code",
   "execution_count": 8,
   "id": "51177ad7-42d9-4167-8097-be650b8ec118",
   "metadata": {},
   "outputs": [],
   "source": [
    "assistant_message = endless_chat.chat(user_message)"
   ]
  },
  {
   "cell_type": "code",
   "execution_count": 9,
   "id": "c051a823",
   "metadata": {},
   "outputs": [
    {
     "name": "stdout",
     "output_type": "stream",
     "text": [
      "Sure! To help you better, could you please specify your budget and any particular specifications you're looking for, such as CPU type, GPU, RAM size, etc.?\n"
     ]
    }
   ],
   "source": [
    "print(assistant_message)"
   ]
  },
  {
   "cell_type": "code",
   "execution_count": 10,
   "id": "8dcc1156-f996-451a-aa0f-6ce61b71b0fd",
   "metadata": {},
   "outputs": [],
   "source": [
    "user_message = \"A friend recommended me AMD, I want to play games like Call of Duty\""
   ]
  },
  {
   "cell_type": "code",
   "execution_count": 11,
   "id": "4f4046d3-b145-4eb0-be83-0a545813f75b",
   "metadata": {},
   "outputs": [],
   "source": [
    "endless_chat.detect_conversation_change(user_message)"
   ]
  },
  {
   "cell_type": "code",
   "execution_count": 12,
   "id": "8d40bd8a-d271-41ed-bd27-24f1c384e0e3",
   "metadata": {},
   "outputs": [],
   "source": [
    "assistant_message = endless_chat.chat(user_message)"
   ]
  },
  {
   "cell_type": "code",
   "execution_count": 13,
   "id": "2444161c-137a-4751-8be9-cad01eca8acc",
   "metadata": {},
   "outputs": [
    {
     "name": "stdout",
     "output_type": "stream",
     "text": [
      "Great choice! For playing games like Call of Duty smoothly, I recommend a PC with at least:\n",
      "\n",
      "- AMD Ryzen 5 or Ryzen 7 processor\n",
      "- 16GB RAM\n",
      "- AMD Radeon RX 5600 XT or better GPU\n",
      "- 512GB SSD for storage\n",
      "\n",
      "This configuration should offer a good balance between price and performance, ensuring a smooth gaming experience. Your budget will ultimately determine the exact model and additional features. Do you have a specific budget in mind?\n"
     ]
    }
   ],
   "source": [
    "print(assistant_message)"
   ]
  },
  {
   "cell_type": "code",
   "execution_count": 14,
   "id": "d85b6abb",
   "metadata": {},
   "outputs": [],
   "source": [
    "user_message = \"What I need to ski in winter?\""
   ]
  },
  {
   "cell_type": "code",
   "execution_count": 15,
   "id": "601152a8",
   "metadata": {},
   "outputs": [
    {
     "name": "stdout",
     "output_type": "stream",
     "text": [
      "INFO: Conversation change detected\n",
      "DEBUG: Similarity score to the nearest conversation: 0.53011096\n",
      "INFO: New conversation created\n",
      "DEBUG: Conversation ID: 4d80c457-631f-48f4-87bb-4cb104c33d4b\n"
     ]
    }
   ],
   "source": [
    "endless_chat.detect_conversation_change(user_message)"
   ]
  },
  {
   "cell_type": "code",
   "execution_count": 16,
   "id": "247f3281",
   "metadata": {},
   "outputs": [],
   "source": [
    "assistant_message = endless_chat.chat(user_message)"
   ]
  },
  {
   "cell_type": "code",
   "execution_count": 17,
   "id": "5228bcb4",
   "metadata": {},
   "outputs": [
    {
     "name": "stdout",
     "output_type": "stream",
     "text": [
      "For skiing in winter, you'll need:\n",
      "\n",
      "1. Skis, poles, and ski boots.\n",
      "2. Helmet and goggles for safety and visibility.\n",
      "3. Appropriate winter clothing: waterproof ski jacket and pants, thermal base layers, gloves or mittens, and a warm hat or balaclava.\n",
      "4. Ski pass for resort access (if applicable).\n",
      "5. Sunscreen and lip balm for protection against sun and wind.\n",
      "\n",
      "Optional: A backpack for carrying essentials, hand and foot warmers, and a ski lock.\n"
     ]
    }
   ],
   "source": [
    "print(assistant_message)"
   ]
  },
  {
   "cell_type": "code",
   "execution_count": null,
   "id": "064f7975",
   "metadata": {},
   "outputs": [],
   "source": []
  }
 ],
 "metadata": {
  "kernelspec": {
   "display_name": "Python 3 (ipykernel)",
   "language": "python",
   "name": "python3"
  },
  "language_info": {
   "codemirror_mode": {
    "name": "ipython",
    "version": 3
   },
   "file_extension": ".py",
   "mimetype": "text/x-python",
   "name": "python",
   "nbconvert_exporter": "python",
   "pygments_lexer": "ipython3",
   "version": "3.11.8"
  }
 },
 "nbformat": 4,
 "nbformat_minor": 5
}
