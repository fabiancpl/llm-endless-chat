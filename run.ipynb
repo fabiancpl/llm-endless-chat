{
 "cells": [
  {
   "cell_type": "code",
   "execution_count": 1,
   "id": "8dae2f06-e4a6-4ee7-af85-4cb179b3c512",
   "metadata": {},
   "outputs": [
    {
     "data": {
      "text/plain": [
       "True"
      ]
     },
     "execution_count": 1,
     "metadata": {},
     "output_type": "execute_result"
    }
   ],
   "source": [
    "from dotenv import load_dotenv\n",
    "\n",
    "load_dotenv()"
   ]
  },
  {
   "cell_type": "code",
   "execution_count": 2,
   "id": "371cf1cd-40dd-4b7b-853e-7fc06f948a50",
   "metadata": {},
   "outputs": [],
   "source": [
    "import uuid\n",
    "\n",
    "from langchain_openai import ChatOpenAI, OpenAIEmbeddings\n",
    "\n",
    "from src.constants import (\n",
    "    LLM_MODEL_NAME,\n",
    "    LLM_TEMPERATURE\n",
    ")\n",
    "\n",
    "from src.endless_chat import EndlessChat"
   ]
  },
  {
   "cell_type": "code",
   "execution_count": 3,
   "id": "34e6ec65-3bc5-452b-a18f-36cc2942ebdc",
   "metadata": {},
   "outputs": [],
   "source": [
    "USER_ID = str(uuid.uuid4())"
   ]
  },
  {
   "cell_type": "code",
   "execution_count": 4,
   "id": "fa746d9b-f449-4ac8-8291-e67cfcb5f5f5",
   "metadata": {},
   "outputs": [],
   "source": [
    "llm = ChatOpenAI(\n",
    "    model_name=LLM_MODEL_NAME,\n",
    "    temperature=LLM_TEMPERATURE\n",
    ")\n",
    "\n",
    "embeddings = OpenAIEmbeddings()"
   ]
  },
  {
   "cell_type": "code",
   "execution_count": 5,
   "id": "fc0d2215-0c56-4578-9025-b4c090d4bef1",
   "metadata": {},
   "outputs": [
    {
     "name": "stdout",
     "output_type": "stream",
     "text": [
      "INFO: New conversation created\n",
      "DEBUG: Conversation ID: 41e24548-1ab3-4c3d-8148-f3fa6579fc96\n"
     ]
    }
   ],
   "source": [
    "endless_chat = EndlessChat(\n",
    "    USER_ID,\n",
    "    llm,\n",
    "    embeddings\n",
    ")"
   ]
  },
  {
   "cell_type": "code",
   "execution_count": 6,
   "id": "b66332ac",
   "metadata": {},
   "outputs": [],
   "source": [
    "user_message = \"Hi! I want to buy a PC gamer\""
   ]
  },
  {
   "cell_type": "code",
   "execution_count": 7,
   "id": "2f30251e-eeb4-4de7-b9ea-069a672f625e",
   "metadata": {},
   "outputs": [],
   "source": [
    "endless_chat.detect_conversation_change(user_message)"
   ]
  },
  {
   "cell_type": "code",
   "execution_count": 8,
   "id": "51177ad7-42d9-4167-8097-be650b8ec118",
   "metadata": {},
   "outputs": [],
   "source": [
    "assistant_message = endless_chat.chat(user_message)"
   ]
  },
  {
   "cell_type": "code",
   "execution_count": 9,
   "id": "c051a823",
   "metadata": {},
   "outputs": [
    {
     "name": "stdout",
     "output_type": "stream",
     "text": [
      "Hello! Are you looking for a pre-built PC or do you plan to build one with specific components? Also, what's your budget and what games or tasks do you intend to use it for? This will help me give you the best recommendations.\n"
     ]
    }
   ],
   "source": [
    "print(assistant_message)"
   ]
  },
  {
   "cell_type": "code",
   "execution_count": 10,
   "id": "8dcc1156-f996-451a-aa0f-6ce61b71b0fd",
   "metadata": {},
   "outputs": [],
   "source": [
    "user_message = \"A friend recommended me AMD, It's for playing games like Call of Duty\""
   ]
  },
  {
   "cell_type": "code",
   "execution_count": 11,
   "id": "4f4046d3-b145-4eb0-be83-0a545813f75b",
   "metadata": {},
   "outputs": [],
   "source": [
    "endless_chat.detect_conversation_change(user_message)"
   ]
  },
  {
   "cell_type": "code",
   "execution_count": 12,
   "id": "8d40bd8a-d271-41ed-bd27-24f1c384e0e3",
   "metadata": {},
   "outputs": [],
   "source": [
    "assistant_message = endless_chat.chat(user_message)"
   ]
  },
  {
   "cell_type": "code",
   "execution_count": 13,
   "id": "2444161c-137a-4751-8be9-cad01eca8acc",
   "metadata": {},
   "outputs": [
    {
     "name": "stdout",
     "output_type": "stream",
     "text": [
      "Great choice! AMD offers excellent performance for gaming. For playing demanding games like Call of Duty, I'd recommend considering a PC with at least an AMD Ryzen 5 (3rd gen or newer) processor, 16GB of RAM, and an AMD Radeon RX 5600 XT or better graphics card. This setup should provide a good balance between price and performance for modern games. Your budget will further refine the options, including potentially higher-end components for better performance. Do you have a specific budget in mind?\n"
     ]
    }
   ],
   "source": [
    "print(assistant_message)"
   ]
  },
  {
   "cell_type": "code",
   "execution_count": 14,
   "id": "d85b6abb",
   "metadata": {},
   "outputs": [],
   "source": [
    "user_message = \"What I need to ski in winter?\""
   ]
  },
  {
   "cell_type": "code",
   "execution_count": 15,
   "id": "601152a8",
   "metadata": {},
   "outputs": [
    {
     "name": "stdout",
     "output_type": "stream",
     "text": [
      "INFO: Conversation change detected\n",
      "DEBUG: Similarity score to the nearest conversation: 0.5477106\n",
      "INFO: New conversation created\n",
      "DEBUG: Conversation ID: 252bc3b3-d34b-4839-95a3-1e92f920fdc1\n"
     ]
    }
   ],
   "source": [
    "endless_chat.detect_conversation_change(user_message)"
   ]
  },
  {
   "cell_type": "code",
   "execution_count": 16,
   "id": "247f3281",
   "metadata": {},
   "outputs": [],
   "source": [
    "assistant_message = endless_chat.chat(user_message)"
   ]
  },
  {
   "cell_type": "code",
   "execution_count": 17,
   "id": "5228bcb4",
   "metadata": {},
   "outputs": [
    {
     "name": "stdout",
     "output_type": "stream",
     "text": [
      "For skiing in winter, you'll need:\n",
      "\n",
      "1. Skis, bindings, and boots\n",
      "2. Ski poles\n",
      "3. Helmet\n",
      "4. Goggles\n",
      "5. Thermal underwear (base layer)\n",
      "6. Insulating layer (fleece or wool)\n",
      "7. Waterproof and windproof jacket and pants\n",
      "8. Gloves or mittens\n",
      "9. Ski socks\n",
      "10. Sunscreen and lip balm\n",
      "11. Optional: back protection, hand and foot warmers, neck gaiter or balaclava\n",
      "\n",
      "Make sure to choose gear suited to your skill level and the conditions where you'll be skiing.\n"
     ]
    }
   ],
   "source": [
    "print(assistant_message)"
   ]
  },
  {
   "cell_type": "code",
   "execution_count": null,
   "id": "064f7975",
   "metadata": {},
   "outputs": [],
   "source": []
  }
 ],
 "metadata": {
  "kernelspec": {
   "display_name": "Python 3 (ipykernel)",
   "language": "python",
   "name": "python3"
  },
  "language_info": {
   "codemirror_mode": {
    "name": "ipython",
    "version": 3
   },
   "file_extension": ".py",
   "mimetype": "text/x-python",
   "name": "python",
   "nbconvert_exporter": "python",
   "pygments_lexer": "ipython3",
   "version": "3.11.8"
  }
 },
 "nbformat": 4,
 "nbformat_minor": 5
}
